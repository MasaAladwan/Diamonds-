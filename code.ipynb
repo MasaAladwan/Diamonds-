{
 "cells": [
  {
   "cell_type": "code",
   "execution_count": 22,
   "metadata": {},
   "outputs": [],
   "source": [
    "import pandas as pd\n",
    "import numpy as np \n",
    "from sklearn.model_selection import train_test_split \n",
    "from sklearn.linear_model import LinearRegression\n",
    "from sklearn.metrics import mean_squared_error, r2_score\n",
    "from sklearn.preprocessing import LabelEncoder\n",
    "from sklearn.model_selection import GridSearchCV\n",
    "from sklearn.ensemble import RandomForestRegressor, GradientBoostingRegressor\n",
    "from math import sqrt\n",
    "from sklearn.ensemble import RandomForestRegressor, GradientBoostingRegressor\n",
    "from sklearn.svm import SVR\n",
    "from sklearn.linear_model import Lasso, Ridge\n",
    "\n"
   ]
  },
  {
   "cell_type": "markdown",
   "metadata": {},
   "source": [
    "# Data Loading and Initial Inspection."
   ]
  },
  {
   "cell_type": "code",
   "execution_count": 23,
   "metadata": {},
   "outputs": [],
   "source": [
    "# Load the data \n",
    "train_data = pd.read_csv(\"train.csv\")\n",
    "test_data = pd.read_csv(\"test.csv\")\n"
   ]
  },
  {
   "cell_type": "code",
   "execution_count": 24,
   "metadata": {},
   "outputs": [
    {
     "name": "stdout",
     "output_type": "stream",
     "text": [
      "(43152, 11)\n",
      "(10788, 10)\n"
     ]
    }
   ],
   "source": [
    "\n",
    "# displaying the number of rows and number of columns \n",
    "print(train_data.shape)\n",
    "print(test_data.shape)\n"
   ]
  },
  {
   "cell_type": "code",
   "execution_count": 25,
   "metadata": {},
   "outputs": [
    {
     "data": {
      "text/html": [
       "<div>\n",
       "<style scoped>\n",
       "    .dataframe tbody tr th:only-of-type {\n",
       "        vertical-align: middle;\n",
       "    }\n",
       "\n",
       "    .dataframe tbody tr th {\n",
       "        vertical-align: top;\n",
       "    }\n",
       "\n",
       "    .dataframe thead th {\n",
       "        text-align: right;\n",
       "    }\n",
       "</style>\n",
       "<table border=\"1\" class=\"dataframe\">\n",
       "  <thead>\n",
       "    <tr style=\"text-align: right;\">\n",
       "      <th></th>\n",
       "      <th>Id</th>\n",
       "      <th>carat</th>\n",
       "      <th>depth</th>\n",
       "      <th>table</th>\n",
       "      <th>price</th>\n",
       "      <th>x</th>\n",
       "      <th>y</th>\n",
       "      <th>z</th>\n",
       "    </tr>\n",
       "  </thead>\n",
       "  <tbody>\n",
       "    <tr>\n",
       "      <th>count</th>\n",
       "      <td>43152.000000</td>\n",
       "      <td>43152.000000</td>\n",
       "      <td>43152.000000</td>\n",
       "      <td>43152.000000</td>\n",
       "      <td>43152.000000</td>\n",
       "      <td>43152.000000</td>\n",
       "      <td>43152.000000</td>\n",
       "      <td>43152.000000</td>\n",
       "    </tr>\n",
       "    <tr>\n",
       "      <th>mean</th>\n",
       "      <td>21576.500000</td>\n",
       "      <td>0.797855</td>\n",
       "      <td>61.747177</td>\n",
       "      <td>57.458347</td>\n",
       "      <td>3929.491912</td>\n",
       "      <td>5.731568</td>\n",
       "      <td>5.735018</td>\n",
       "      <td>3.538568</td>\n",
       "    </tr>\n",
       "    <tr>\n",
       "      <th>std</th>\n",
       "      <td>12457.053745</td>\n",
       "      <td>0.473594</td>\n",
       "      <td>1.435454</td>\n",
       "      <td>2.233904</td>\n",
       "      <td>3985.527795</td>\n",
       "      <td>1.121279</td>\n",
       "      <td>1.148809</td>\n",
       "      <td>0.708238</td>\n",
       "    </tr>\n",
       "    <tr>\n",
       "      <th>min</th>\n",
       "      <td>1.000000</td>\n",
       "      <td>0.200000</td>\n",
       "      <td>43.000000</td>\n",
       "      <td>43.000000</td>\n",
       "      <td>326.000000</td>\n",
       "      <td>0.000000</td>\n",
       "      <td>0.000000</td>\n",
       "      <td>0.000000</td>\n",
       "    </tr>\n",
       "    <tr>\n",
       "      <th>25%</th>\n",
       "      <td>10788.750000</td>\n",
       "      <td>0.400000</td>\n",
       "      <td>61.000000</td>\n",
       "      <td>56.000000</td>\n",
       "      <td>947.750000</td>\n",
       "      <td>4.710000</td>\n",
       "      <td>4.720000</td>\n",
       "      <td>2.910000</td>\n",
       "    </tr>\n",
       "    <tr>\n",
       "      <th>50%</th>\n",
       "      <td>21576.500000</td>\n",
       "      <td>0.700000</td>\n",
       "      <td>61.800000</td>\n",
       "      <td>57.000000</td>\n",
       "      <td>2401.000000</td>\n",
       "      <td>5.700000</td>\n",
       "      <td>5.710000</td>\n",
       "      <td>3.530000</td>\n",
       "    </tr>\n",
       "    <tr>\n",
       "      <th>75%</th>\n",
       "      <td>32364.250000</td>\n",
       "      <td>1.040000</td>\n",
       "      <td>62.500000</td>\n",
       "      <td>59.000000</td>\n",
       "      <td>5312.000000</td>\n",
       "      <td>6.540000</td>\n",
       "      <td>6.540000</td>\n",
       "      <td>4.040000</td>\n",
       "    </tr>\n",
       "    <tr>\n",
       "      <th>max</th>\n",
       "      <td>43152.000000</td>\n",
       "      <td>5.010000</td>\n",
       "      <td>79.000000</td>\n",
       "      <td>95.000000</td>\n",
       "      <td>18823.000000</td>\n",
       "      <td>10.740000</td>\n",
       "      <td>58.900000</td>\n",
       "      <td>31.800000</td>\n",
       "    </tr>\n",
       "  </tbody>\n",
       "</table>\n",
       "</div>"
      ],
      "text/plain": [
       "                 Id         carat         depth         table         price  \\\n",
       "count  43152.000000  43152.000000  43152.000000  43152.000000  43152.000000   \n",
       "mean   21576.500000      0.797855     61.747177     57.458347   3929.491912   \n",
       "std    12457.053745      0.473594      1.435454      2.233904   3985.527795   \n",
       "min        1.000000      0.200000     43.000000     43.000000    326.000000   \n",
       "25%    10788.750000      0.400000     61.000000     56.000000    947.750000   \n",
       "50%    21576.500000      0.700000     61.800000     57.000000   2401.000000   \n",
       "75%    32364.250000      1.040000     62.500000     59.000000   5312.000000   \n",
       "max    43152.000000      5.010000     79.000000     95.000000  18823.000000   \n",
       "\n",
       "                  x             y             z  \n",
       "count  43152.000000  43152.000000  43152.000000  \n",
       "mean       5.731568      5.735018      3.538568  \n",
       "std        1.121279      1.148809      0.708238  \n",
       "min        0.000000      0.000000      0.000000  \n",
       "25%        4.710000      4.720000      2.910000  \n",
       "50%        5.700000      5.710000      3.530000  \n",
       "75%        6.540000      6.540000      4.040000  \n",
       "max       10.740000     58.900000     31.800000  "
      ]
     },
     "execution_count": 25,
     "metadata": {},
     "output_type": "execute_result"
    }
   ],
   "source": [
    "# displaying statistical information \n",
    "train_data.describe()\n"
   ]
  },
  {
   "cell_type": "code",
   "execution_count": 26,
   "metadata": {},
   "outputs": [
    {
     "data": {
      "text/plain": [
       "Id         0\n",
       "carat      0\n",
       "cut        0\n",
       "color      0\n",
       "clarity    0\n",
       "depth      0\n",
       "table      0\n",
       "price      0\n",
       "x          0\n",
       "y          0\n",
       "z          0\n",
       "dtype: int64"
      ]
     },
     "execution_count": 26,
     "metadata": {},
     "output_type": "execute_result"
    }
   ],
   "source": [
    "#checking for null values\n",
    "train_data.isnull().sum()"
   ]
  },
  {
   "cell_type": "code",
   "execution_count": null,
   "metadata": {},
   "outputs": [],
   "source": [
    "# checking for duplicated rows\n",
    "train_data.duplicated().sum()"
   ]
  },
  {
   "cell_type": "code",
   "execution_count": 27,
   "metadata": {},
   "outputs": [
    {
     "name": "stdout",
     "output_type": "stream",
     "text": [
      "<class 'pandas.core.frame.DataFrame'>\n",
      "RangeIndex: 43152 entries, 0 to 43151\n",
      "Data columns (total 11 columns):\n",
      " #   Column   Non-Null Count  Dtype  \n",
      "---  ------   --------------  -----  \n",
      " 0   Id       43152 non-null  int64  \n",
      " 1   carat    43152 non-null  float64\n",
      " 2   cut      43152 non-null  object \n",
      " 3   color    43152 non-null  object \n",
      " 4   clarity  43152 non-null  object \n",
      " 5   depth    43152 non-null  float64\n",
      " 6   table    43152 non-null  float64\n",
      " 7   price    43152 non-null  int64  \n",
      " 8   x        43152 non-null  float64\n",
      " 9   y        43152 non-null  float64\n",
      " 10  z        43152 non-null  float64\n",
      "dtypes: float64(6), int64(2), object(3)\n",
      "memory usage: 3.6+ MB\n"
     ]
    }
   ],
   "source": [
    "# Displaying the data types of each column  \n",
    "train_data.info()"
   ]
  },
  {
   "cell_type": "markdown",
   "metadata": {},
   "source": [
    "## Data Preprocessing"
   ]
  },
  {
   "cell_type": "code",
   "execution_count": 28,
   "metadata": {},
   "outputs": [
    {
     "name": "stdout",
     "output_type": "stream",
     "text": [
      "          Id  carat        cut color clarity  depth  table  price    x     y  \\\n",
      "1221    1222   1.14       Fair     G     VS1   57.5   67.0   6381  0.0  0.00   \n",
      "6765    6766   0.71       Good     F     SI2   64.1   60.0   2130  0.0  0.00   \n",
      "22171  22172   1.00  Very Good     H     VS2   63.3   53.0   5139  0.0  0.00   \n",
      "24901  24902   2.25    Premium     H     SI2   62.8   59.0  18034  0.0  0.00   \n",
      "39201  39202   1.07      Ideal     F     SI2   61.6   56.0   4954  0.0  6.62   \n",
      "\n",
      "         z  \n",
      "1221   0.0  \n",
      "6765   0.0  \n",
      "22171  0.0  \n",
      "24901  0.0  \n",
      "39201  0.0  \n",
      "          Id  carat        cut color clarity  depth  table  price    x    y  \\\n",
      "1221    1222   1.14       Fair     G     VS1   57.5   67.0   6381  0.0  0.0   \n",
      "6765    6766   0.71       Good     F     SI2   64.1   60.0   2130  0.0  0.0   \n",
      "22171  22172   1.00  Very Good     H     VS2   63.3   53.0   5139  0.0  0.0   \n",
      "24901  24902   2.25    Premium     H     SI2   62.8   59.0  18034  0.0  0.0   \n",
      "\n",
      "         z  \n",
      "1221   0.0  \n",
      "6765   0.0  \n",
      "22171  0.0  \n",
      "24901  0.0  \n",
      "          Id  carat        cut color clarity  depth  table  price     x     y  \\\n",
      "571      572   1.10    Premium     G     SI2   63.0   59.0   3696  6.50  6.47   \n",
      "903      904   2.25    Premium     I     SI1   61.3   58.0  15397  8.52  8.42   \n",
      "1221    1222   1.14       Fair     G     VS1   57.5   67.0   6381  0.00  0.00   \n",
      "4980    4981   1.50       Good     G      I1   64.0   61.0   4731  7.15  7.04   \n",
      "6765    6766   0.71       Good     F     SI2   64.1   60.0   2130  0.00  0.00   \n",
      "11221  11222   2.80       Good     G     SI2   63.8   58.0  18788  8.90  8.85   \n",
      "13727  13728   2.02    Premium     H     VS2   62.7   53.0  18207  8.02  7.95   \n",
      "14265  14266   1.01    Premium     F     SI2   59.2   58.0   3837  6.50  6.47   \n",
      "16971  16972   1.00    Premium     G     SI2   59.1   59.0   3142  6.55  6.48   \n",
      "21061  21062   1.15      Ideal     G     VS2   59.2   56.0   5564  6.88  6.83   \n",
      "22171  22172   1.00  Very Good     H     VS2   63.3   53.0   5139  0.00  0.00   \n",
      "24901  24902   2.25    Premium     H     SI2   62.8   59.0  18034  0.00  0.00   \n",
      "27221  27222   1.12    Premium     G      I1   60.4   59.0   2383  6.71  6.67   \n",
      "34065  34066   1.01    Premium     H      I1   58.1   59.0   3167  6.66  6.60   \n",
      "35347  35348   2.18    Premium     H     SI2   59.4   61.0  12631  8.49  8.45   \n",
      "39201  39202   1.07      Ideal     F     SI2   61.6   56.0   4954  0.00  6.62   \n",
      "42898  42899   2.20    Premium     H     SI1   61.2   59.0  17265  8.42  8.37   \n",
      "\n",
      "         z  \n",
      "571    0.0  \n",
      "903    0.0  \n",
      "1221   0.0  \n",
      "4980   0.0  \n",
      "6765   0.0  \n",
      "11221  0.0  \n",
      "13727  0.0  \n",
      "14265  0.0  \n",
      "16971  0.0  \n",
      "21061  0.0  \n",
      "22171  0.0  \n",
      "24901  0.0  \n",
      "27221  0.0  \n",
      "34065  0.0  \n",
      "35347  0.0  \n",
      "39201  0.0  \n",
      "42898  0.0  \n"
     ]
    }
   ],
   "source": [
    "# x , y , z are the length , width , height for the diamonds ,  it doesn't make any sense , so probably it's a misinput Data\n",
    "print(train_data[train_data[\"x\"]==0])\n",
    "print(train_data[train_data[\"y\"]==0])\n",
    "print(train_data[train_data[\"z\"]==0])\n",
    "\n",
    "# so i will drop them \n",
    "train_data = train_data.drop(train_data[train_data[\"x\"]==0].index)\n",
    "train_data = train_data.drop(train_data[train_data[\"y\"]==0].index)\n",
    "train_data = train_data.drop(train_data[train_data[\"z\"]==0].index)\n"
   ]
  },
  {
   "cell_type": "code",
   "execution_count": 29,
   "metadata": {},
   "outputs": [
    {
     "data": {
      "text/plain": [
       "(43135, 11)"
      ]
     },
     "execution_count": 29,
     "metadata": {},
     "output_type": "execute_result"
    }
   ],
   "source": [
    "train_data.shape"
   ]
  },
  {
   "cell_type": "code",
   "execution_count": 30,
   "metadata": {},
   "outputs": [
    {
     "name": "stdout",
     "output_type": "stream",
     "text": [
      "Outliers:\n",
      "          Id  carat        cut color clarity  depth  table  price     x     y  \\\n",
      "23        24   1.70      Ideal     G    VVS1   61.0   56.0  18279  7.62  7.67   \n",
      "62        63   2.04    Premium     I     SI1   62.2   57.0  16942  8.14  8.07   \n",
      "120      121   2.10       Fair     F     SI2   59.5   69.0  16506  8.35  8.25   \n",
      "128      129   2.03      Ideal     F     SI2   61.4   58.0  18535  8.12  8.16   \n",
      "156      157   0.70       Good     H     VS2   56.7   63.0   2187  5.87  5.92   \n",
      "...      ...    ...        ...   ...     ...    ...    ...    ...   ...   ...   \n",
      "43075  43076   2.09    Premium     F     SI2   61.7   59.0  17840  8.21  8.23   \n",
      "43093  43094   1.09       Good     G     SI2   57.4   61.0   3424  6.82  6.75   \n",
      "43099  43100   2.22  Very Good     I     SI2   63.2   57.0  16547  8.28  8.23   \n",
      "43111  43112   1.75    Premium     F     VS2   61.4   58.0  17017  7.72  7.76   \n",
      "43138  43139   2.26    Premium     I     SI2   62.0   58.0  16241  8.40  8.37   \n",
      "\n",
      "          z  \n",
      "23     4.66  \n",
      "62     5.04  \n",
      "120    4.94  \n",
      "128    5.00  \n",
      "156    3.34  \n",
      "...     ...  \n",
      "43075  5.07  \n",
      "43093  3.89  \n",
      "43099  5.22  \n",
      "43111  4.75  \n",
      "43138  5.20  \n",
      "\n",
      "[1856 rows x 11 columns]\n"
     ]
    }
   ],
   "source": [
    "# Calculate Z-Score for each numerical column , (observation - mean)/ Standard deviation \n",
    "z_scores = (train_data.select_dtypes(include=np.number) - train_data.select_dtypes(include=np.number).mean()) / train_data.select_dtypes(include=np.number).std()\n",
    "\n",
    "# Identify outliers (threshold of 3 for demonstration)\n",
    "outliers = (z_scores > 3) | (z_scores < -3)\n",
    "\n",
    "# Display outliers\n",
    "print(\"Outliers:\")\n",
    "print(train_data[outliers.any(axis=1)])"
   ]
  },
  {
   "cell_type": "code",
   "execution_count": 31,
   "metadata": {},
   "outputs": [],
   "source": [
    "# Create a new DataFrame with no outliers\n",
    "data_no_outliers = train_data[~outliers.any(axis=1)]\n"
   ]
  },
  {
   "cell_type": "code",
   "execution_count": 32,
   "metadata": {},
   "outputs": [],
   "source": [
    "# drop the id column \n",
    "train_data.drop(columns=[\"Id\"], inplace=True)\n"
   ]
  },
  {
   "cell_type": "code",
   "execution_count": 33,
   "metadata": {},
   "outputs": [
    {
     "name": "stdout",
     "output_type": "stream",
     "text": [
      "<class 'pandas.core.frame.DataFrame'>\n",
      "Index: 43135 entries, 0 to 43151\n",
      "Data columns (total 10 columns):\n",
      " #   Column   Non-Null Count  Dtype  \n",
      "---  ------   --------------  -----  \n",
      " 0   carat    43135 non-null  float64\n",
      " 1   cut      43135 non-null  object \n",
      " 2   color    43135 non-null  object \n",
      " 3   clarity  43135 non-null  object \n",
      " 4   depth    43135 non-null  float64\n",
      " 5   table    43135 non-null  float64\n",
      " 6   price    43135 non-null  int64  \n",
      " 7   x        43135 non-null  float64\n",
      " 8   y        43135 non-null  float64\n",
      " 9   z        43135 non-null  float64\n",
      "dtypes: float64(6), int64(1), object(3)\n",
      "memory usage: 3.6+ MB\n"
     ]
    }
   ],
   "source": [
    "# rechecking the info\n",
    "train_data.info()"
   ]
  },
  {
   "cell_type": "code",
   "execution_count": 34,
   "metadata": {},
   "outputs": [
    {
     "data": {
      "text/html": [
       "<div>\n",
       "<style scoped>\n",
       "    .dataframe tbody tr th:only-of-type {\n",
       "        vertical-align: middle;\n",
       "    }\n",
       "\n",
       "    .dataframe tbody tr th {\n",
       "        vertical-align: top;\n",
       "    }\n",
       "\n",
       "    .dataframe thead th {\n",
       "        text-align: right;\n",
       "    }\n",
       "</style>\n",
       "<table border=\"1\" class=\"dataframe\">\n",
       "  <thead>\n",
       "    <tr style=\"text-align: right;\">\n",
       "      <th></th>\n",
       "      <th>Id</th>\n",
       "      <th>carat</th>\n",
       "      <th>cut</th>\n",
       "      <th>color</th>\n",
       "      <th>clarity</th>\n",
       "      <th>depth</th>\n",
       "      <th>table</th>\n",
       "      <th>x</th>\n",
       "      <th>y</th>\n",
       "      <th>z</th>\n",
       "    </tr>\n",
       "  </thead>\n",
       "  <tbody>\n",
       "    <tr>\n",
       "      <th>0</th>\n",
       "      <td>1</td>\n",
       "      <td>0.34</td>\n",
       "      <td>Ideal</td>\n",
       "      <td>G</td>\n",
       "      <td>VVS2</td>\n",
       "      <td>61.1</td>\n",
       "      <td>57.0</td>\n",
       "      <td>4.52</td>\n",
       "      <td>4.48</td>\n",
       "      <td>2.75</td>\n",
       "    </tr>\n",
       "    <tr>\n",
       "      <th>1</th>\n",
       "      <td>2</td>\n",
       "      <td>0.71</td>\n",
       "      <td>Premium</td>\n",
       "      <td>E</td>\n",
       "      <td>VS2</td>\n",
       "      <td>62.7</td>\n",
       "      <td>58.0</td>\n",
       "      <td>5.74</td>\n",
       "      <td>5.68</td>\n",
       "      <td>3.58</td>\n",
       "    </tr>\n",
       "    <tr>\n",
       "      <th>2</th>\n",
       "      <td>3</td>\n",
       "      <td>0.44</td>\n",
       "      <td>Very Good</td>\n",
       "      <td>I</td>\n",
       "      <td>VS1</td>\n",
       "      <td>62.8</td>\n",
       "      <td>56.0</td>\n",
       "      <td>4.83</td>\n",
       "      <td>4.88</td>\n",
       "      <td>3.05</td>\n",
       "    </tr>\n",
       "    <tr>\n",
       "      <th>3</th>\n",
       "      <td>4</td>\n",
       "      <td>0.81</td>\n",
       "      <td>Premium</td>\n",
       "      <td>E</td>\n",
       "      <td>SI2</td>\n",
       "      <td>60.1</td>\n",
       "      <td>59.0</td>\n",
       "      <td>6.09</td>\n",
       "      <td>6.03</td>\n",
       "      <td>3.65</td>\n",
       "    </tr>\n",
       "    <tr>\n",
       "      <th>4</th>\n",
       "      <td>5</td>\n",
       "      <td>0.40</td>\n",
       "      <td>Ideal</td>\n",
       "      <td>G</td>\n",
       "      <td>VVS1</td>\n",
       "      <td>61.2</td>\n",
       "      <td>56.0</td>\n",
       "      <td>4.74</td>\n",
       "      <td>4.80</td>\n",
       "      <td>2.92</td>\n",
       "    </tr>\n",
       "    <tr>\n",
       "      <th>...</th>\n",
       "      <td>...</td>\n",
       "      <td>...</td>\n",
       "      <td>...</td>\n",
       "      <td>...</td>\n",
       "      <td>...</td>\n",
       "      <td>...</td>\n",
       "      <td>...</td>\n",
       "      <td>...</td>\n",
       "      <td>...</td>\n",
       "      <td>...</td>\n",
       "    </tr>\n",
       "    <tr>\n",
       "      <th>10783</th>\n",
       "      <td>10784</td>\n",
       "      <td>0.57</td>\n",
       "      <td>Ideal</td>\n",
       "      <td>H</td>\n",
       "      <td>VS1</td>\n",
       "      <td>60.9</td>\n",
       "      <td>56.0</td>\n",
       "      <td>5.34</td>\n",
       "      <td>5.36</td>\n",
       "      <td>3.26</td>\n",
       "    </tr>\n",
       "    <tr>\n",
       "      <th>10784</th>\n",
       "      <td>10785</td>\n",
       "      <td>1.05</td>\n",
       "      <td>Ideal</td>\n",
       "      <td>G</td>\n",
       "      <td>VS2</td>\n",
       "      <td>60.8</td>\n",
       "      <td>57.0</td>\n",
       "      <td>6.65</td>\n",
       "      <td>6.58</td>\n",
       "      <td>4.02</td>\n",
       "    </tr>\n",
       "    <tr>\n",
       "      <th>10785</th>\n",
       "      <td>10786</td>\n",
       "      <td>0.71</td>\n",
       "      <td>Ideal</td>\n",
       "      <td>E</td>\n",
       "      <td>VVS1</td>\n",
       "      <td>62.3</td>\n",
       "      <td>55.0</td>\n",
       "      <td>5.68</td>\n",
       "      <td>5.72</td>\n",
       "      <td>3.55</td>\n",
       "    </tr>\n",
       "    <tr>\n",
       "      <th>10786</th>\n",
       "      <td>10787</td>\n",
       "      <td>1.11</td>\n",
       "      <td>Premium</td>\n",
       "      <td>E</td>\n",
       "      <td>SI2</td>\n",
       "      <td>61.0</td>\n",
       "      <td>60.0</td>\n",
       "      <td>6.68</td>\n",
       "      <td>6.66</td>\n",
       "      <td>4.07</td>\n",
       "    </tr>\n",
       "    <tr>\n",
       "      <th>10787</th>\n",
       "      <td>10788</td>\n",
       "      <td>2.00</td>\n",
       "      <td>Premium</td>\n",
       "      <td>F</td>\n",
       "      <td>SI2</td>\n",
       "      <td>61.5</td>\n",
       "      <td>59.0</td>\n",
       "      <td>8.03</td>\n",
       "      <td>7.95</td>\n",
       "      <td>4.92</td>\n",
       "    </tr>\n",
       "  </tbody>\n",
       "</table>\n",
       "<p>10788 rows × 10 columns</p>\n",
       "</div>"
      ],
      "text/plain": [
       "          Id  carat        cut color clarity  depth  table     x     y     z\n",
       "0          1   0.34      Ideal     G    VVS2   61.1   57.0  4.52  4.48  2.75\n",
       "1          2   0.71    Premium     E     VS2   62.7   58.0  5.74  5.68  3.58\n",
       "2          3   0.44  Very Good     I     VS1   62.8   56.0  4.83  4.88  3.05\n",
       "3          4   0.81    Premium     E     SI2   60.1   59.0  6.09  6.03  3.65\n",
       "4          5   0.40      Ideal     G    VVS1   61.2   56.0  4.74  4.80  2.92\n",
       "...      ...    ...        ...   ...     ...    ...    ...   ...   ...   ...\n",
       "10783  10784   0.57      Ideal     H     VS1   60.9   56.0  5.34  5.36  3.26\n",
       "10784  10785   1.05      Ideal     G     VS2   60.8   57.0  6.65  6.58  4.02\n",
       "10785  10786   0.71      Ideal     E    VVS1   62.3   55.0  5.68  5.72  3.55\n",
       "10786  10787   1.11    Premium     E     SI2   61.0   60.0  6.68  6.66  4.07\n",
       "10787  10788   2.00    Premium     F     SI2   61.5   59.0  8.03  7.95  4.92\n",
       "\n",
       "[10788 rows x 10 columns]"
      ]
     },
     "execution_count": 34,
     "metadata": {},
     "output_type": "execute_result"
    }
   ],
   "source": [
    "test_data"
   ]
  },
  {
   "cell_type": "code",
   "execution_count": 35,
   "metadata": {},
   "outputs": [
    {
     "name": "stderr",
     "output_type": "stream",
     "text": [
      "/var/folders/v8/l1_1hkns6bzgr_mh923vgcbh0000gn/T/ipykernel_3877/738737264.py:14: SettingWithCopyWarning: \n",
      "A value is trying to be set on a copy of a slice from a DataFrame.\n",
      "Try using .loc[row_indexer,col_indexer] = value instead\n",
      "\n",
      "See the caveats in the documentation: https://pandas.pydata.org/pandas-docs/stable/user_guide/indexing.html#returning-a-view-versus-a-copy\n",
      "  data_no_outliers['cut'] = data_no_outliers['cut'].map(cut_weights)\n",
      "/var/folders/v8/l1_1hkns6bzgr_mh923vgcbh0000gn/T/ipykernel_3877/738737264.py:15: SettingWithCopyWarning: \n",
      "A value is trying to be set on a copy of a slice from a DataFrame.\n",
      "Try using .loc[row_indexer,col_indexer] = value instead\n",
      "\n",
      "See the caveats in the documentation: https://pandas.pydata.org/pandas-docs/stable/user_guide/indexing.html#returning-a-view-versus-a-copy\n",
      "  data_no_outliers['color'] = data_no_outliers['color'].map(color_weights)\n",
      "/var/folders/v8/l1_1hkns6bzgr_mh923vgcbh0000gn/T/ipykernel_3877/738737264.py:16: SettingWithCopyWarning: \n",
      "A value is trying to be set on a copy of a slice from a DataFrame.\n",
      "Try using .loc[row_indexer,col_indexer] = value instead\n",
      "\n",
      "See the caveats in the documentation: https://pandas.pydata.org/pandas-docs/stable/user_guide/indexing.html#returning-a-view-versus-a-copy\n",
      "  data_no_outliers['clarity'] = data_no_outliers['clarity'].map(clarity_weights)\n"
     ]
    }
   ],
   "source": [
    "\n",
    "# Apply label encoder to each column with categorical data\n",
    "lb = LabelEncoder()\n",
    "\n",
    "# Define order for encoding , adding weights \n",
    "color_weights = {'D':7,'E':6,'F':5,'G':4, 'H':3, 'I':2,'J':1}\n",
    "cut_weights = {'Ideal':5, 'Premium':4,'Very Good':3, 'Good':2, 'Fair':1}\n",
    "clarity_weights = {'IF': 8,'VVS1':7,'VVS2':6, 'VS1':5, 'VS2':4 , 'SI1':3,'SI2':2,'I1':1}\n",
    "\n",
    "\n",
    "\n",
    "# Label Encoding\n",
    "label_encoder = LabelEncoder()\n",
    "\n",
    "# Apply label encoding with weights\n",
    "data_no_outliers['cut'] = data_no_outliers['cut'].map(cut_weights)\n",
    "data_no_outliers['color'] = data_no_outliers['color'].map(color_weights)\n",
    "data_no_outliers['clarity'] = data_no_outliers['clarity'].map(clarity_weights)\n",
    "\n",
    "test_data['cut'] = test_data['cut'].map(cut_weights)\n",
    "test_data['color'] = test_data['color'].map(color_weights)\n",
    "test_data['clarity'] = test_data['clarity'].map(clarity_weights)\n",
    "\n",
    "\n"
   ]
  },
  {
   "cell_type": "code",
   "execution_count": 36,
   "metadata": {},
   "outputs": [
    {
     "name": "stdout",
     "output_type": "stream",
     "text": [
      "          Id  carat  cut  color  clarity  depth  table     x     y     z\n",
      "0          1   0.34    5      4        6   61.1   57.0  4.52  4.48  2.75\n",
      "1          2   0.71    4      6        4   62.7   58.0  5.74  5.68  3.58\n",
      "2          3   0.44    3      2        5   62.8   56.0  4.83  4.88  3.05\n",
      "3          4   0.81    4      6        2   60.1   59.0  6.09  6.03  3.65\n",
      "4          5   0.40    5      4        7   61.2   56.0  4.74  4.80  2.92\n",
      "...      ...    ...  ...    ...      ...    ...    ...   ...   ...   ...\n",
      "10783  10784   0.57    5      3        5   60.9   56.0  5.34  5.36  3.26\n",
      "10784  10785   1.05    5      4        4   60.8   57.0  6.65  6.58  4.02\n",
      "10785  10786   0.71    5      6        7   62.3   55.0  5.68  5.72  3.55\n",
      "10786  10787   1.11    4      6        2   61.0   60.0  6.68  6.66  4.07\n",
      "10787  10788   2.00    4      5        2   61.5   59.0  8.03  7.95  4.92\n",
      "\n",
      "[10788 rows x 10 columns]\n"
     ]
    }
   ],
   "source": [
    "print(test_data)"
   ]
  },
  {
   "cell_type": "code",
   "execution_count": null,
   "metadata": {},
   "outputs": [],
   "source": [
    "print(train_data)"
   ]
  },
  {
   "cell_type": "code",
   "execution_count": 37,
   "metadata": {},
   "outputs": [
    {
     "data": {
      "text/plain": [
       "array([5, 4, 3, 1, 2])"
      ]
     },
     "execution_count": 37,
     "metadata": {},
     "output_type": "execute_result"
    }
   ],
   "source": [
    "data_no_outliers\n",
    "data_no_outliers[\"cut\"].unique()"
   ]
  },
  {
   "cell_type": "markdown",
   "metadata": {},
   "source": [
    "## MODELS"
   ]
  },
  {
   "cell_type": "code",
   "execution_count": 38,
   "metadata": {},
   "outputs": [],
   "source": [
    "# specifying X and y \n",
    "X= data_no_outliers.drop(columns=[\"price\"])\n",
    "y= data_no_outliers[\"price\"]\n"
   ]
  },
  {
   "cell_type": "code",
   "execution_count": 39,
   "metadata": {},
   "outputs": [],
   "source": [
    "# Split the data into training and testing sets\n",
    "X_train, X_test, y_train, y_test = train_test_split(X, y, test_size=0.3, random_state=42)\n"
   ]
  },
  {
   "cell_type": "code",
   "execution_count": 40,
   "metadata": {},
   "outputs": [
    {
     "data": {
      "text/html": [
       "<style>#sk-container-id-2 {color: black;}#sk-container-id-2 pre{padding: 0;}#sk-container-id-2 div.sk-toggleable {background-color: white;}#sk-container-id-2 label.sk-toggleable__label {cursor: pointer;display: block;width: 100%;margin-bottom: 0;padding: 0.3em;box-sizing: border-box;text-align: center;}#sk-container-id-2 label.sk-toggleable__label-arrow:before {content: \"▸\";float: left;margin-right: 0.25em;color: #696969;}#sk-container-id-2 label.sk-toggleable__label-arrow:hover:before {color: black;}#sk-container-id-2 div.sk-estimator:hover label.sk-toggleable__label-arrow:before {color: black;}#sk-container-id-2 div.sk-toggleable__content {max-height: 0;max-width: 0;overflow: hidden;text-align: left;background-color: #f0f8ff;}#sk-container-id-2 div.sk-toggleable__content pre {margin: 0.2em;color: black;border-radius: 0.25em;background-color: #f0f8ff;}#sk-container-id-2 input.sk-toggleable__control:checked~div.sk-toggleable__content {max-height: 200px;max-width: 100%;overflow: auto;}#sk-container-id-2 input.sk-toggleable__control:checked~label.sk-toggleable__label-arrow:before {content: \"▾\";}#sk-container-id-2 div.sk-estimator input.sk-toggleable__control:checked~label.sk-toggleable__label {background-color: #d4ebff;}#sk-container-id-2 div.sk-label input.sk-toggleable__control:checked~label.sk-toggleable__label {background-color: #d4ebff;}#sk-container-id-2 input.sk-hidden--visually {border: 0;clip: rect(1px 1px 1px 1px);clip: rect(1px, 1px, 1px, 1px);height: 1px;margin: -1px;overflow: hidden;padding: 0;position: absolute;width: 1px;}#sk-container-id-2 div.sk-estimator {font-family: monospace;background-color: #f0f8ff;border: 1px dotted black;border-radius: 0.25em;box-sizing: border-box;margin-bottom: 0.5em;}#sk-container-id-2 div.sk-estimator:hover {background-color: #d4ebff;}#sk-container-id-2 div.sk-parallel-item::after {content: \"\";width: 100%;border-bottom: 1px solid gray;flex-grow: 1;}#sk-container-id-2 div.sk-label:hover label.sk-toggleable__label {background-color: #d4ebff;}#sk-container-id-2 div.sk-serial::before {content: \"\";position: absolute;border-left: 1px solid gray;box-sizing: border-box;top: 0;bottom: 0;left: 50%;z-index: 0;}#sk-container-id-2 div.sk-serial {display: flex;flex-direction: column;align-items: center;background-color: white;padding-right: 0.2em;padding-left: 0.2em;position: relative;}#sk-container-id-2 div.sk-item {position: relative;z-index: 1;}#sk-container-id-2 div.sk-parallel {display: flex;align-items: stretch;justify-content: center;background-color: white;position: relative;}#sk-container-id-2 div.sk-item::before, #sk-container-id-2 div.sk-parallel-item::before {content: \"\";position: absolute;border-left: 1px solid gray;box-sizing: border-box;top: 0;bottom: 0;left: 50%;z-index: -1;}#sk-container-id-2 div.sk-parallel-item {display: flex;flex-direction: column;z-index: 1;position: relative;background-color: white;}#sk-container-id-2 div.sk-parallel-item:first-child::after {align-self: flex-end;width: 50%;}#sk-container-id-2 div.sk-parallel-item:last-child::after {align-self: flex-start;width: 50%;}#sk-container-id-2 div.sk-parallel-item:only-child::after {width: 0;}#sk-container-id-2 div.sk-dashed-wrapped {border: 1px dashed gray;margin: 0 0.4em 0.5em 0.4em;box-sizing: border-box;padding-bottom: 0.4em;background-color: white;}#sk-container-id-2 div.sk-label label {font-family: monospace;font-weight: bold;display: inline-block;line-height: 1.2em;}#sk-container-id-2 div.sk-label-container {text-align: center;}#sk-container-id-2 div.sk-container {/* jupyter's `normalize.less` sets `[hidden] { display: none; }` but bootstrap.min.css set `[hidden] { display: none !important; }` so we also need the `!important` here to be able to override the default hidden behavior on the sphinx rendered scikit-learn.org. See: https://github.com/scikit-learn/scikit-learn/issues/21755 */display: inline-block !important;position: relative;}#sk-container-id-2 div.sk-text-repr-fallback {display: none;}</style><div id=\"sk-container-id-2\" class=\"sk-top-container\"><div class=\"sk-text-repr-fallback\"><pre>LinearRegression()</pre><b>In a Jupyter environment, please rerun this cell to show the HTML representation or trust the notebook. <br />On GitHub, the HTML representation is unable to render, please try loading this page with nbviewer.org.</b></div><div class=\"sk-container\" hidden><div class=\"sk-item\"><div class=\"sk-estimator sk-toggleable\"><input class=\"sk-toggleable__control sk-hidden--visually\" id=\"sk-estimator-id-2\" type=\"checkbox\" checked><label for=\"sk-estimator-id-2\" class=\"sk-toggleable__label sk-toggleable__label-arrow\">LinearRegression</label><div class=\"sk-toggleable__content\"><pre>LinearRegression()</pre></div></div></div></div></div>"
      ],
      "text/plain": [
       "LinearRegression()"
      ]
     },
     "execution_count": 40,
     "metadata": {},
     "output_type": "execute_result"
    }
   ],
   "source": [
    "# Train the model\n",
    "model = LinearRegression()\n",
    "model.fit(X_train,y_train)"
   ]
  },
  {
   "cell_type": "code",
   "execution_count": 41,
   "metadata": {},
   "outputs": [],
   "source": [
    "# predict \n",
    "y_pred = model.predict(X_test)\n"
   ]
  },
  {
   "cell_type": "code",
   "execution_count": 43,
   "metadata": {},
   "outputs": [
    {
     "name": "stdout",
     "output_type": "stream",
     "text": [
      "Root Mean Squared Error : 991.8669887244645\n",
      "R^2 Score: 0.9173816131014771\n"
     ]
    }
   ],
   "source": [
    "# Evaluate the model\n",
    "mse = mean_squared_error(y_test, y_pred)\n",
    "r2 = r2_score(y_test, y_pred)\n",
    "\n",
    "print(\"Root Mean Squared Error :\",np.sqrt(mse) )\n",
    "print(\"R^2 Score:\", r2)\n"
   ]
  },
  {
   "cell_type": "code",
   "execution_count": 46,
   "metadata": {},
   "outputs": [
    {
     "name": "stdout",
     "output_type": "stream",
     "text": [
      "Model: RandomForestRegressor\n",
      "Root Mean Squared Error: 452.00020148697587\n",
      "R^2 Score: 0.9828427730742741\n",
      "\n",
      "Model: GradientBoostingRegressor\n",
      "Root Mean Squared Error: 496.07930809068307\n",
      "R^2 Score: 0.9793332558138895\n",
      "\n",
      "Model: SVR\n",
      "Root Mean Squared Error: 3681.984083210836\n",
      "R^2 Score: -0.13850161788924886\n",
      "\n",
      "Model: Lasso\n",
      "Root Mean Squared Error: 993.5696868931828\n",
      "R^2 Score: 0.9170977143075354\n",
      "\n",
      "Model: Ridge\n",
      "Root Mean Squared Error: 991.8533879368714\n",
      "R^2 Score: 0.9173838788638026\n",
      "\n"
     ]
    },
    {
     "name": "stderr",
     "output_type": "stream",
     "text": [
      "/Users/masaaladwan/anaconda3/lib/python3.11/site-packages/sklearn/linear_model/_coordinate_descent.py:628: ConvergenceWarning: Objective did not converge. You might want to increase the number of iterations, check the scale of the features or consider increasing regularisation. Duality gap: 1.880e+08, tolerance: 3.412e+07\n",
      "  model = cd_fast.enet_coordinate_descent(\n"
     ]
    }
   ],
   "source": [
    "#since the linear regression didnt give me good performance , i will try other models\n",
    "\n",
    "# Initialize models\n",
    "models = {\n",
    "    \"RandomForestRegressor\": RandomForestRegressor(),\n",
    "    \"GradientBoostingRegressor\": GradientBoostingRegressor(),\n",
    "    \"SVR\": SVR(),\n",
    "    \"Lasso\": Lasso(),\n",
    "    \"Ridge\": Ridge()\n",
    "}\n",
    "\n",
    "# Train and evaluate each model\n",
    "for name, model in models.items():\n",
    "    model.fit(X_train, y_train)\n",
    "    y_pred = model.predict(X_test)\n",
    "    rmse = sqrt(mean_squared_error(y_test, y_pred))\n",
    "    r2 = r2_score(y_test, y_pred)\n",
    "    print(f\"Model: {name}\")\n",
    "    print(f\"Root Mean Squared Error: {rmse}\")\n",
    "    print(f\"R^2 Score: {r2}\")\n",
    "    print()\n",
    "\n",
    "    # Check if RMSE is less than 500\n",
    "    \"\"\"if rmse < 500:\n",
    "        print(f\"{name} meets the criteria of RMSE < 500.\")\n",
    "        break\"\"\"\n"
   ]
  },
  {
   "cell_type": "code",
   "execution_count": 45,
   "metadata": {},
   "outputs": [
    {
     "name": "stderr",
     "output_type": "stream",
     "text": [
      "/Users/masaaladwan/anaconda3/lib/python3.11/site-packages/joblib/externals/loky/process_executor.py:702: UserWarning: A worker stopped while some jobs were given to the executor. This can be caused by a too short worker timeout or by a memory leak.\n",
      "  warnings.warn(\n"
     ]
    },
    {
     "name": "stdout",
     "output_type": "stream",
     "text": [
      "Random Forest RMSE: 446.32820769309836\n",
      "Gradient Boosting RMSE: 440.0446948879311\n"
     ]
    }
   ],
   "source": [
    "from sklearn.model_selection import GridSearchCV\n",
    "from sklearn.ensemble import RandomForestRegressor, GradientBoostingRegressor\n",
    "from sklearn.metrics import mean_squared_error, r2_score\n",
    "from math import sqrt\n",
    "\n",
    "# Define parameter grids for Random Forest and Gradient Boosting\n",
    "param_grid_rf = {\n",
    "    'n_estimators': [100, 200, 300],\n",
    "    'max_depth': [10, 20, 30],\n",
    "    'min_samples_split': [2, 5, 10],\n",
    "    'min_samples_leaf': [1, 2, 4]\n",
    "}\n",
    "\n",
    "param_grid_gb = {\n",
    "    'n_estimators': [100, 200, 300],\n",
    "    'learning_rate': [0.01, 0.1, 0.2],\n",
    "    'max_depth': [3, 4, 5]\n",
    "}\n",
    "\n",
    "# Initialize models\n",
    "rf_model = RandomForestRegressor(random_state=42)\n",
    "gb_model = GradientBoostingRegressor(random_state=42)\n",
    "\n",
    "# Grid search for Random Forest\n",
    "rf_grid_search = GridSearchCV(rf_model, param_grid_rf, cv=5, scoring='neg_root_mean_squared_error', n_jobs=-1)\n",
    "rf_grid_search.fit(X_train, y_train)\n",
    "best_rf_model = rf_grid_search.best_estimator_\n",
    "\n",
    "# Grid search for Gradient Boosting\n",
    "gb_grid_search = GridSearchCV(gb_model, param_grid_gb, cv=5, scoring='neg_root_mean_squared_error', n_jobs=-1)\n",
    "gb_grid_search.fit(X_train, y_train)\n",
    "best_gb_model = gb_grid_search.best_estimator_\n",
    "\n",
    "# Evaluate best models\n",
    "rf_rmse = sqrt(mean_squared_error(y_test, best_rf_model.predict(X_test)))\n",
    "gb_rmse = sqrt(mean_squared_error(y_test, best_gb_model.predict(X_test)))\n",
    "\n",
    "print(\"Random Forest RMSE:\", rf_rmse)\n",
    "print(\"Gradient Boosting RMSE:\", gb_rmse)\n"
   ]
  },
  {
   "cell_type": "code",
   "execution_count": null,
   "metadata": {},
   "outputs": [],
   "source": []
  }
 ],
 "metadata": {
  "kernelspec": {
   "display_name": "base",
   "language": "python",
   "name": "python3"
  },
  "language_info": {
   "codemirror_mode": {
    "name": "ipython",
    "version": 3
   },
   "file_extension": ".py",
   "mimetype": "text/x-python",
   "name": "python",
   "nbconvert_exporter": "python",
   "pygments_lexer": "ipython3",
   "version": "3.11.4"
  }
 },
 "nbformat": 4,
 "nbformat_minor": 2
}
